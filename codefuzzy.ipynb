{
 "cells": [
  {
   "cell_type": "code",
   "execution_count": 4,
   "metadata": {},
   "outputs": [],
   "source": [
    "import pandas as pd\n",
    "import numpy as np\n",
    "import matplotlib.pyplot as plt\n",
    "import skfuzzy as fuzz\n",
    "from skfuzzy import control as ctrl"
   ]
  },
  {
   "cell_type": "code",
   "execution_count": 5,
   "metadata": {},
   "outputs": [],
   "source": [
    "df = pd.read_csv('heart.csv')"
   ]
  },
  {
   "cell_type": "code",
   "execution_count": 6,
   "metadata": {},
   "outputs": [],
   "source": [
    "age = ctrl.Antecedent(np.arange(df.age.min(), df.age.max()+1, 1), 'age')\n",
    "cholesterol = ctrl.Antecedent(np.arange(df.chol.min(), df.chol.max()+1, 1), 'cholesterol')\n",
    "heart_rate = ctrl.Antecedent(np.arange(df.thalach.min(), df.thalach.max()+1, 1), 'heart_rate')\n",
    "blood_pressure = ctrl.Antecedent(np.arange(df.trestbps.min(), df.trestbps.max()+1, 1), 'blood_pressure')\n",
    "target = ctrl.Consequent(np.arange(df.target.min(), df.target.max()+0.1, 0.1), 'target')"
   ]
  },
  {
   "cell_type": "code",
   "execution_count": 7,
   "metadata": {},
   "outputs": [],
   "source": [
    "age.automf(number= 4, names= ['young', 'middle', 'old', 'very old']) #f1 \n",
    "cholesterol.automf(number= 4, names= ['low', 'medium', 'high', 'very high']) #f2\n",
    "heart_rate.automf(number= 4, names= ['low', 'medium', 'high', 'very high']) #f3\n",
    "blood_pressure.automf(number= 4, names= ['low', 'medium', 'high', 'very high']) #f4"
   ]
  },
  {
   "cell_type": "code",
   "execution_count": 8,
   "metadata": {},
   "outputs": [
    {
     "name": "stdout",
     "output_type": "stream",
     "text": [
      "<class 'skfuzzy.control.term.Term'>\n",
      "target[normal]\n"
     ]
    }
   ],
   "source": [
    "#print(target)\n",
    "target['normal'] = 1-fuzz.smf(target.universe, 0, 0.50) \n",
    "target['terindikasi'] = fuzz.smf(target.universe, 0.51, 1.0)\n",
    "print(type(target['normal']))\n",
    "y = 1-fuzz.smf(target.universe, 0.51, 1.0)\n",
    "print(target['normal'])"
   ]
  },
  {
   "cell_type": "code",
   "execution_count": 9,
   "metadata": {},
   "outputs": [],
   "source": [
    "def createrules(lingvar):\n",
    "    rules =[]\n",
    "    for l in lingvar:\n",
    "        rules.append(ctrl.Rule(\n",
    "            age[l[0]]|\n",
    "            cholesterol[l[1]]| \n",
    "            blood_pressure[l[2]]|\n",
    "            heart_rate[l[3]], \n",
    "            target[l[4]]\n",
    "        ))\n",
    "    return rules\n",
    "\n",
    "\n",
    "lingvar1 = [\n",
    "    ['young', 'low', 'low', 'low','normal'],\n",
    "    ['middle', 'medium', 'medium', 'medium','terindikasi'],\n",
    "    ['old', 'high', 'high', 'high','terindikasi'],\n",
    "    ['very old', 'very high', 'very high', 'very high','terindikasi'],   \n",
    "]\n",
    "\n",
    "rules = createrules(lingvar1)"
   ]
  },
  {
   "cell_type": "code",
   "execution_count": 10,
   "metadata": {},
   "outputs": [
    {
     "name": "stdout",
     "output_type": "stream",
     "text": [
      "Output fuzzy = 0.8535909186619649\n"
     ]
    },
    {
     "name": "stderr",
     "output_type": "stream",
     "text": [
      "C:\\Users\\USER\\anaconda3\\lib\\site-packages\\skfuzzy\\control\\fuzzyvariable.py:122: UserWarning: Matplotlib is currently using module://ipykernel.pylab.backend_inline, which is a non-GUI backend, so cannot show the figure.\n",
      "  fig.show()\n"
     ]
    },
    {
     "name": "stdout",
     "output_type": "stream",
     "text": [
      "terindikasi\n"
     ]
    },
    {
     "data": {
      "image/png": "[encoded data removed]",
      "text/plain": [
       "<Figure size 432x288 with 1 Axes>"
      ]
     },
     "metadata": {
      "needs_background": "light"
     },
     "output_type": "display_data"
    }
   ],
   "source": [
    "#control_system1 = ctrl.ControlSystem([rule33, rule34, rule35, rule36])\n",
    "control_system1 = ctrl.ControlSystem(rules)\n",
    "fuzzy_system1 =  ctrl.ControlSystemSimulation(control_system1)\n",
    "fuzzy_system1.input['age'] = 64\n",
    "fuzzy_system1.input['cholesterol'] = 335\n",
    "fuzzy_system1.input['blood_pressure'] = 140\n",
    "fuzzy_system1.input['heart_rate'] = 158\n",
    "fuzzy_system1.compute()\n",
    "output = print(\"Output fuzzy =\",fuzzy_system1.output['target'])\n",
    "target.view(sim = fuzzy_system1)\n",
    "if fuzzy_system1.output['target'] < 0.50:\n",
    "    print('normal')\n",
    "else:\n",
    "    print('terindikasi')"
   ]
  },
  {
   "cell_type": "code",
   "execution_count": null,
   "metadata": {},
   "outputs": [],
   "source": []
  },
  {
   "cell_type": "code",
   "execution_count": null,
   "metadata": {},
   "outputs": [],
   "source": []
  }
 ],
 "metadata": {
  "kernelspec": {
   "display_name": "Python 3",
   "language": "python",
   "name": "python3"
  },
  "language_info": {
   "codemirror_mode": {
    "name": "ipython",
    "version": 3
   },
   "file_extension": ".py",
   "mimetype": "text/x-python",
   "name": "python",
   "nbconvert_exporter": "python",
   "pygments_lexer": "ipython3",
   "version": "3.7.6"
  }
 },
 "nbformat": 4,
 "nbformat_minor": 4
}
